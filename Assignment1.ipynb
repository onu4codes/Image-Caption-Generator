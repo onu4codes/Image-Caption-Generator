{
  "nbformat": 4,
  "nbformat_minor": 0,
  "metadata": {
    "colab": {
      "provenance": []
    },
    "kernelspec": {
      "name": "python3",
      "display_name": "Python 3"
    },
    "language_info": {
      "name": "python"
    }
  },
  "cells": [
    {
      "cell_type": "code",
      "execution_count": 75,
      "metadata": {
        "id": "AvMGmchkX4co"
      },
      "outputs": [],
      "source": [
        "import numpy as np\n",
        "import pandas as pd\n",
        "rg = np.random.default_rng()\n",
        "\n",
        "\n"
      ]
    },
    {
      "cell_type": "code",
      "source": [
        "def generate_data(n_features,n_values):\n",
        "  features = rg.random((n_features,n_values))\n",
        "  weights = rg.random((1,n_values))[0]\n",
        "  target= np.random.choice([0,1],n_features)\n",
        "  data=pd.DataFrame(features,columns=[\"X0\",\"X1\",\"X2\"])\n",
        "  data[\"targets\"]=target\n",
        "  return data,weights"
      ],
      "metadata": {
        "id": "tzEzywjir_kw"
      },
      "execution_count": 76,
      "outputs": []
    },
    {
      "cell_type": "code",
      "source": [
        "def get_weighted_sum(feature,weights,bias):\n",
        "  return np.dot(feature,weights)+bias"
      ],
      "metadata": {
        "id": "R-eMOi-RsFCN"
      },
      "execution_count": 77,
      "outputs": []
    },
    {
      "cell_type": "code",
      "source": [
        "def sigmoid(w_sum):\n",
        "  return 1/(1+np.exp(-w_sum))\n",
        "\n"
      ],
      "metadata": {
        "id": "93AGoxdKvwDC"
      },
      "execution_count": 78,
      "outputs": []
    },
    {
      "cell_type": "code",
      "source": [
        "def cross_entropy(target,prediction):\n",
        "  return -target*np.log10(prediction)+(1-target)*np.log10(1-prediction)"
      ],
      "metadata": {
        "id": "4oGu5mTQ4YST"
      },
      "execution_count": 79,
      "outputs": []
    },
    {
      "cell_type": "code",
      "source": [
        "def update_weights(weights,l_rate,target,prediction,feature):\n",
        "  new_weights=[]\n",
        "  for x,w in zip(feature,weights):\n",
        "    new_w=w+(l_rate*(target-prediction)*x)\n",
        "    new_weights.append(new_w)\n",
        "  return new_weights"
      ],
      "metadata": {
        "id": "Eh4WlSar46N6"
      },
      "execution_count": 80,
      "outputs": []
    },
    {
      "cell_type": "code",
      "source": [
        "def update_bias(bias,l_rate,target,prediction):\n",
        "  new_bias=bias+(l_rate*(target-prediction))\n",
        "  return new_bias"
      ],
      "metadata": {
        "id": "rijY1sfd60DX"
      },
      "execution_count": 81,
      "outputs": []
    },
    {
      "cell_type": "code",
      "source": [
        "def train_model(data,weights,l_rate,epochs):\n",
        "  bias = 0.5\n",
        "  for e in range(epochs):\n",
        "    individual_loss=[]\n",
        "    for i in range(len(data)):\n",
        "      feature = data.loc[i][:-1]\n",
        "      target = data.loc[i][-1]\n",
        "      w_sum = get_weighted_sum(feature,weights,bias)\n",
        "      prediction=sigmoid(w_sum)\n",
        "      loss=cross_entropy(target,prediction)\n",
        "      individual_loss.append(loss)\n",
        "      #gradient descent\n",
        "      weights=update_weights(weights,l_rate,target,prediction,feature)\n",
        "      bias=update_bias(bias,l_rate,target,prediction)\n",
        "    average_loss=np.mean(individual_loss)\n",
        "    epoch_loss.append(average_loss)\n",
        "    print(\"*******************\")\n",
        "    print(\"epoch\",e)\n",
        "    print(\"average loss\",average_loss)\n",
        "    print(\"weights\",weights)\n",
        "    print(\"bias\",bias)\n",
        "    print(\"*******************\")\n",
        "\n",
        "\n",
        "\n"
      ],
      "metadata": {
        "id": "7MeYSUzc7Iug"
      },
      "execution_count": 88,
      "outputs": []
    },
    {
      "cell_type": "code",
      "source": [
        "data,weights=generate_data(4,3)"
      ],
      "metadata": {
        "id": "c638AIr7w-Fi"
      },
      "execution_count": 84,
      "outputs": []
    },
    {
      "cell_type": "code",
      "source": [
        "\n",
        "for i in range(len(data)):\n",
        "  feature = data.loc[i][:-1]\n",
        "  target = data.loc[i][-1]\n",
        "  w_sum = get_weighted_sum(feature,weights,bias)\n",
        "  prediction=sigmoid(w_sum)\n",
        "  loss=cross_entropy(target,prediction)\n",
        "  weights=update_weights(weights,l_rate,target,prediction,feature)\n",
        "  bias=update_bias(bias,l_rate,target,prediction)\n",
        "\n",
        "\n",
        "\n",
        "\n"
      ],
      "metadata": {
        "id": "OXjFFuvsqDhu"
      },
      "execution_count": 56,
      "outputs": []
    },
    {
      "cell_type": "code",
      "source": [
        "bias = 0.5\n",
        "l_rate=0.1\n",
        "epochs=10\n",
        "epoch_loss=[]\n",
        "train_model(data,weights,l_rate,epochs)"
      ],
      "metadata": {
        "colab": {
          "base_uri": "https://localhost:8080/"
        },
        "id": "q9-wz-ke9IhJ",
        "outputId": "4f2b0521-5a9e-4dcd-98cb-e592652652a1"
      },
      "execution_count": 89,
      "outputs": [
        {
          "output_type": "stream",
          "name": "stdout",
          "text": [
            "*******************\n",
            "epoch 0\n",
            "average loss -0.27951362819259284\n",
            "weights [0.8491236839999663, 0.9755551341641788, 0.6440601425295239]\n",
            "bias 0.3797260663754187\n",
            "*******************\n",
            "*******************\n",
            "epoch 1\n",
            "average loss -0.2487402350911228\n",
            "weights [0.7900307733914745, 0.9867053485028461, 0.6123231349652107]\n",
            "bias 0.26924359153108796\n",
            "*******************\n",
            "*******************\n",
            "epoch 2\n",
            "average loss -0.22094490250389692\n",
            "weights [0.7347483849098051, 1.001057252785483, 0.5838495661504065]\n",
            "bias 0.1683716035571257\n",
            "*******************\n",
            "*******************\n",
            "epoch 3\n",
            "average loss -0.19602365340221226\n",
            "weights [0.6831471504183251, 1.0184587316848062, 0.5585227307173856]\n",
            "bias 0.07673716391030568\n",
            "*******************\n",
            "*******************\n",
            "epoch 4\n",
            "average loss -0.17382243655128962\n",
            "weights [0.635039192439372, 1.0387064876438417, 0.5361730721496711]\n",
            "bias -0.006179665371576076\n",
            "*******************\n",
            "*******************\n",
            "epoch 5\n",
            "average loss -0.1541521773421763\n",
            "weights [0.5901967070038996, 1.0615630038371051, 0.5165944804300069]\n",
            "bias -0.08099774860068634\n",
            "*******************\n",
            "*******************\n",
            "epoch 6\n",
            "average loss -0.13680325062886303\n",
            "weights [0.5483693123965797, 1.0867723379136727, 0.49955969575573034]\n",
            "bias -0.14839030588494298\n",
            "*******************\n",
            "*******************\n",
            "epoch 7\n",
            "average loss -0.12155790644366693\n",
            "weights [0.5092985785774975, 1.114073361594238, 0.48483336998723925]\n",
            "bias -0.20904776006103232\n",
            "*******************\n",
            "*******************\n",
            "epoch 8\n",
            "average loss -0.10819998837464778\n",
            "weights [0.4727291323494078, 1.143209908450837, 0.4721821875288833]\n",
            "bias -0.2636494458894565\n",
            "*******************\n",
            "*******************\n",
            "epoch 9\n",
            "average loss -0.09652189729816474\n",
            "weights [0.43841642960229055, 1.1739379004581103, 0.4613820664853254]\n",
            "bias -0.3128438872700937\n",
            "*******************\n"
          ]
        }
      ]
    },
    {
      "cell_type": "code",
      "source": [],
      "metadata": {
        "id": "J3H0vVKWBUsT"
      },
      "execution_count": null,
      "outputs": []
    }
  ]
}